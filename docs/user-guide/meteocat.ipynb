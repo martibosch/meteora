{
 "cells": [
  {
   "cell_type": "markdown",
   "id": "53414179",
   "metadata": {},
   "source": [
    "# Meteocat\n",
    "\n",
    "[Meteocat](https://www.meteo.cat) is the Catalan Meteorological Service. It provides a REST API to access its data. To use the Meteocat API, you first need to have an API key. You can get one by registering at [apidocs.meteocat.gencat.cat/section/informacio-general/plans-i-registre](https://apidocs.meteocat.gencat.cat/section/informacio-general/plans-i-registre). You can choose the \"Accés ciutadà i administració\" plan, which is free, or the paid \"Accés professionals\" plan. In both cases, you need to check the box \"Dades de la XEMA\" (automated weather stations) to get access to the data used in meteostations-geopy. You will then receive by mail the API key.\n",
    "\n",
    "Let us now use the `MeteocatClient` class by instantiating it with the API key and the region of interest (which must be part of Catalonia so that it contains some stations)."
   ]
  },
  {
   "cell_type": "code",
   "execution_count": null,
   "id": "8de801cf",
   "metadata": {},
   "outputs": [],
   "source": [
    "from meteostations.clients import MeteocatClient\n",
    "\n",
    "API_KEY = \"<your-api-key>\"\n",
    "region = \"Conca de Barberà\"\n",
    "\n",
    "client = MeteocatClient(region, API_KEY)"
   ]
  },
  {
   "cell_type": "markdown",
   "id": "fc3a22a2",
   "metadata": {},
   "source": [
    "\n",
    "Once instantiated, the `stations_gdf` property features the stations within the region, with its locations and other attributes:"
   ]
  },
  {
   "cell_type": "code",
   "execution_count": null,
   "id": "a6f822c1",
   "metadata": {},
   "outputs": [
    {
     "data": {
      "text/html": [
       "<div>\n",
       "<style scoped>\n",
       "    .dataframe tbody tr th:only-of-type {\n",
       "        vertical-align: middle;\n",
       "    }\n",
       "\n",
       "    .dataframe tbody tr th {\n",
       "        vertical-align: top;\n",
       "    }\n",
       "\n",
       "    .dataframe thead th {\n",
       "        text-align: right;\n",
       "    }\n",
       "</style>\n",
       "<table border=\"1\" class=\"dataframe\">\n",
       "  <thead>\n",
       "    <tr style=\"text-align: right;\">\n",
       "      <th></th>\n",
       "      <th>codi</th>\n",
       "      <th>nom</th>\n",
       "      <th>tipus</th>\n",
       "      <th>emplacament</th>\n",
       "      <th>altitud</th>\n",
       "      <th>estats</th>\n",
       "      <th>coordenades.latitud</th>\n",
       "      <th>coordenades.longitud</th>\n",
       "      <th>municipi.codi</th>\n",
       "      <th>municipi.nom</th>\n",
       "      <th>comarca.codi</th>\n",
       "      <th>comarca.nom</th>\n",
       "      <th>provincia.codi</th>\n",
       "      <th>provincia.nom</th>\n",
       "      <th>xarxa.codi</th>\n",
       "      <th>xarxa.nom</th>\n",
       "      <th>geometry</th>\n",
       "    </tr>\n",
       "  </thead>\n",
       "  <tbody>\n",
       "    <tr>\n",
       "      <th>27</th>\n",
       "      <td>CW</td>\n",
       "      <td>l'Espluga de Francolí</td>\n",
       "      <td>A</td>\n",
       "      <td>Urb. Espluga Parc</td>\n",
       "      <td>446.0</td>\n",
       "      <td>[{'codi': 2, 'dataInici': '1996-02-23T21:00Z',...</td>\n",
       "      <td>41.39241</td>\n",
       "      <td>1.09894</td>\n",
       "      <td>430542</td>\n",
       "      <td>L'Espluga de Francolí</td>\n",
       "      <td>16</td>\n",
       "      <td>Conca de Barberà</td>\n",
       "      <td>43</td>\n",
       "      <td>Tarragona</td>\n",
       "      <td>1</td>\n",
       "      <td>XEMA</td>\n",
       "      <td>POINT (1.09894 41.39241)</td>\n",
       "    </tr>\n",
       "    <tr>\n",
       "      <th>87</th>\n",
       "      <td>UJ</td>\n",
       "      <td>Santa Coloma de Queralt</td>\n",
       "      <td>A</td>\n",
       "      <td>Partida la Cabana</td>\n",
       "      <td>709.0</td>\n",
       "      <td>[{'codi': 2, 'dataInici': '1996-11-19T20:00Z',...</td>\n",
       "      <td>41.52879</td>\n",
       "      <td>1.36830</td>\n",
       "      <td>431397</td>\n",
       "      <td>Santa Coloma de Queralt</td>\n",
       "      <td>16</td>\n",
       "      <td>Conca de Barberà</td>\n",
       "      <td>43</td>\n",
       "      <td>Tarragona</td>\n",
       "      <td>1</td>\n",
       "      <td>XEMA</td>\n",
       "      <td>POINT (1.36830 41.52879)</td>\n",
       "    </tr>\n",
       "    <tr>\n",
       "      <th>142</th>\n",
       "      <td>W8</td>\n",
       "      <td>Blancafort</td>\n",
       "      <td>A</td>\n",
       "      <td>Cooperativa vinícola, pl.del Sindicat</td>\n",
       "      <td>438.0</td>\n",
       "      <td>[{'codi': 2, 'dataInici': '2000-01-18T12:00Z',...</td>\n",
       "      <td>41.44237</td>\n",
       "      <td>1.15998</td>\n",
       "      <td>430290</td>\n",
       "      <td>Blancafort</td>\n",
       "      <td>16</td>\n",
       "      <td>Conca de Barberà</td>\n",
       "      <td>43</td>\n",
       "      <td>Tarragona</td>\n",
       "      <td>1</td>\n",
       "      <td>XEMA</td>\n",
       "      <td>POINT (1.15998 41.44237)</td>\n",
       "    </tr>\n",
       "  </tbody>\n",
       "</table>\n",
       "</div>"
      ],
      "text/plain": [
       "    codi                      nom tipus  \\\n",
       "27    CW    l'Espluga de Francolí     A   \n",
       "87    UJ  Santa Coloma de Queralt     A   \n",
       "142   W8               Blancafort     A   \n",
       "\n",
       "                               emplacament  altitud  \\\n",
       "27                       Urb. Espluga Parc    446.0   \n",
       "87                       Partida la Cabana    709.0   \n",
       "142  Cooperativa vinícola, pl.del Sindicat    438.0   \n",
       "\n",
       "                                                estats  coordenades.latitud  \\\n",
       "27   [{'codi': 2, 'dataInici': '1996-02-23T21:00Z',...             41.39241   \n",
       "87   [{'codi': 2, 'dataInici': '1996-11-19T20:00Z',...             41.52879   \n",
       "142  [{'codi': 2, 'dataInici': '2000-01-18T12:00Z',...             41.44237   \n",
       "\n",
       "     coordenades.longitud municipi.codi             municipi.nom  \\\n",
       "27                1.09894        430542    L'Espluga de Francolí   \n",
       "87                1.36830        431397  Santa Coloma de Queralt   \n",
       "142               1.15998        430290               Blancafort   \n",
       "\n",
       "     comarca.codi       comarca.nom  provincia.codi provincia.nom  xarxa.codi  \\\n",
       "27             16  Conca de Barberà              43     Tarragona           1   \n",
       "87             16  Conca de Barberà              43     Tarragona           1   \n",
       "142            16  Conca de Barberà              43     Tarragona           1   \n",
       "\n",
       "    xarxa.nom                  geometry  \n",
       "27       XEMA  POINT (1.09894 41.39241)  \n",
       "87       XEMA  POINT (1.36830 41.52879)  \n",
       "142      XEMA  POINT (1.15998 41.44237)  "
      ]
     },
     "execution_count": null,
     "metadata": {},
     "output_type": "execute_result"
    }
   ],
   "source": [
    "client.stations_gdf"
   ]
  },
  {
   "cell_type": "markdown",
   "id": "60a17278",
   "metadata": {},
   "source": [
    "\n",
    "Similarly, the `variables_df` property features the available variables and its metadata:"
   ]
  },
  {
   "cell_type": "code",
   "execution_count": null,
   "id": "5be7cd86",
   "metadata": {},
   "outputs": [
    {
     "data": {
      "text/html": [
       "<div>\n",
       "<style scoped>\n",
       "    .dataframe tbody tr th:only-of-type {\n",
       "        vertical-align: middle;\n",
       "    }\n",
       "\n",
       "    .dataframe tbody tr th {\n",
       "        vertical-align: top;\n",
       "    }\n",
       "\n",
       "    .dataframe thead th {\n",
       "        text-align: right;\n",
       "    }\n",
       "</style>\n",
       "<table border=\"1\" class=\"dataframe\">\n",
       "  <thead>\n",
       "    <tr style=\"text-align: right;\">\n",
       "      <th></th>\n",
       "      <th>codi</th>\n",
       "      <th>nom</th>\n",
       "      <th>unitat</th>\n",
       "      <th>acronim</th>\n",
       "      <th>tipus</th>\n",
       "      <th>decimals</th>\n",
       "    </tr>\n",
       "  </thead>\n",
       "  <tbody>\n",
       "    <tr>\n",
       "      <th>0</th>\n",
       "      <td>1</td>\n",
       "      <td>Pressió atmosfèrica màxima</td>\n",
       "      <td>hPa</td>\n",
       "      <td>Px</td>\n",
       "      <td>DAT</td>\n",
       "      <td>1</td>\n",
       "    </tr>\n",
       "    <tr>\n",
       "      <th>1</th>\n",
       "      <td>2</td>\n",
       "      <td>Pressió atmosfèrica mínima</td>\n",
       "      <td>hPa</td>\n",
       "      <td>Pn</td>\n",
       "      <td>DAT</td>\n",
       "      <td>1</td>\n",
       "    </tr>\n",
       "    <tr>\n",
       "      <th>2</th>\n",
       "      <td>3</td>\n",
       "      <td>Humitat relativa màxima</td>\n",
       "      <td>%</td>\n",
       "      <td>HRx</td>\n",
       "      <td>DAT</td>\n",
       "      <td>0</td>\n",
       "    </tr>\n",
       "    <tr>\n",
       "      <th>3</th>\n",
       "      <td>4</td>\n",
       "      <td>Temperatura màxima de subsòl a 5 cm</td>\n",
       "      <td>°C</td>\n",
       "      <td>TSUBx5</td>\n",
       "      <td>DAT</td>\n",
       "      <td>1</td>\n",
       "    </tr>\n",
       "    <tr>\n",
       "      <th>4</th>\n",
       "      <td>5</td>\n",
       "      <td>Temperatura mínima de subsòl a 5 cm</td>\n",
       "      <td>°C</td>\n",
       "      <td>TSUBn5</td>\n",
       "      <td>DAT</td>\n",
       "      <td>1</td>\n",
       "    </tr>\n",
       "  </tbody>\n",
       "</table>\n",
       "</div>"
      ],
      "text/plain": [
       "   codi                                  nom unitat acronim tipus  decimals\n",
       "0     1           Pressió atmosfèrica màxima    hPa      Px   DAT         1\n",
       "1     2           Pressió atmosfèrica mínima    hPa      Pn   DAT         1\n",
       "2     3              Humitat relativa màxima      %     HRx   DAT         0\n",
       "3     4  Temperatura màxima de subsòl a 5 cm     °C  TSUBx5   DAT         1\n",
       "4     5  Temperatura mínima de subsòl a 5 cm     °C  TSUBn5   DAT         1"
      ]
     },
     "execution_count": null,
     "metadata": {},
     "output_type": "execute_result"
    }
   ],
   "source": [
    "client.variables_df.head()"
   ]
  },
  {
   "cell_type": "markdown",
   "id": "8f7f4fb3",
   "metadata": {},
   "source": [
    "\n",
    "Given a variable and a time range, the time seres data frame of measurements in the corresponding stations can be obtained with the `get_ts_df` method as in:"
   ]
  },
  {
   "cell_type": "code",
   "execution_count": null,
   "id": "6584ac24",
   "metadata": {},
   "outputs": [
    {
     "data": {
      "text/html": [
       "<div>\n",
       "<style scoped>\n",
       "    .dataframe tbody tr th:only-of-type {\n",
       "        vertical-align: middle;\n",
       "    }\n",
       "\n",
       "    .dataframe tbody tr th {\n",
       "        vertical-align: top;\n",
       "    }\n",
       "\n",
       "    .dataframe thead th {\n",
       "        text-align: right;\n",
       "    }\n",
       "</style>\n",
       "<table border=\"1\" class=\"dataframe\">\n",
       "  <thead>\n",
       "    <tr style=\"text-align: right;\">\n",
       "      <th>codi</th>\n",
       "      <th>CW</th>\n",
       "      <th>UJ</th>\n",
       "      <th>W8</th>\n",
       "    </tr>\n",
       "    <tr>\n",
       "      <th>time</th>\n",
       "      <th></th>\n",
       "      <th></th>\n",
       "      <th></th>\n",
       "    </tr>\n",
       "  </thead>\n",
       "  <tbody>\n",
       "    <tr>\n",
       "      <th>2021-08-13 00:00:00+00:00</th>\n",
       "      <td>20.2</td>\n",
       "      <td>21.6</td>\n",
       "      <td>20.2</td>\n",
       "    </tr>\n",
       "    <tr>\n",
       "      <th>2021-08-13 00:30:00+00:00</th>\n",
       "      <td>19.8</td>\n",
       "      <td>20.5</td>\n",
       "      <td>19.6</td>\n",
       "    </tr>\n",
       "    <tr>\n",
       "      <th>2021-08-13 01:00:00+00:00</th>\n",
       "      <td>19.5</td>\n",
       "      <td>21.2</td>\n",
       "      <td>19.3</td>\n",
       "    </tr>\n",
       "    <tr>\n",
       "      <th>2021-08-13 01:30:00+00:00</th>\n",
       "      <td>20.1</td>\n",
       "      <td>22.0</td>\n",
       "      <td>19.2</td>\n",
       "    </tr>\n",
       "    <tr>\n",
       "      <th>2021-08-13 02:00:00+00:00</th>\n",
       "      <td>19.2</td>\n",
       "      <td>21.7</td>\n",
       "      <td>18.9</td>\n",
       "    </tr>\n",
       "    <tr>\n",
       "      <th>...</th>\n",
       "      <td>...</td>\n",
       "      <td>...</td>\n",
       "      <td>...</td>\n",
       "    </tr>\n",
       "    <tr>\n",
       "      <th>2021-08-16 21:30:00+00:00</th>\n",
       "      <td>20.6</td>\n",
       "      <td>18.8</td>\n",
       "      <td>20.6</td>\n",
       "    </tr>\n",
       "    <tr>\n",
       "      <th>2021-08-16 22:00:00+00:00</th>\n",
       "      <td>19.7</td>\n",
       "      <td>18.7</td>\n",
       "      <td>19.5</td>\n",
       "    </tr>\n",
       "    <tr>\n",
       "      <th>2021-08-16 22:30:00+00:00</th>\n",
       "      <td>19.3</td>\n",
       "      <td>17.8</td>\n",
       "      <td>19.3</td>\n",
       "    </tr>\n",
       "    <tr>\n",
       "      <th>2021-08-16 23:00:00+00:00</th>\n",
       "      <td>18.8</td>\n",
       "      <td>16.9</td>\n",
       "      <td>18.7</td>\n",
       "    </tr>\n",
       "    <tr>\n",
       "      <th>2021-08-16 23:30:00+00:00</th>\n",
       "      <td>18.2</td>\n",
       "      <td>16.2</td>\n",
       "      <td>18.1</td>\n",
       "    </tr>\n",
       "  </tbody>\n",
       "</table>\n",
       "<p>192 rows × 3 columns</p>\n",
       "</div>"
      ],
      "text/plain": [
       "codi                         CW    UJ    W8\n",
       "time                                       \n",
       "2021-08-13 00:00:00+00:00  20.2  21.6  20.2\n",
       "2021-08-13 00:30:00+00:00  19.8  20.5  19.6\n",
       "2021-08-13 01:00:00+00:00  19.5  21.2  19.3\n",
       "2021-08-13 01:30:00+00:00  20.1  22.0  19.2\n",
       "2021-08-13 02:00:00+00:00  19.2  21.7  18.9\n",
       "...                         ...   ...   ...\n",
       "2021-08-16 21:30:00+00:00  20.6  18.8  20.6\n",
       "2021-08-16 22:00:00+00:00  19.7  18.7  19.5\n",
       "2021-08-16 22:30:00+00:00  19.3  17.8  19.3\n",
       "2021-08-16 23:00:00+00:00  18.8  16.9  18.7\n",
       "2021-08-16 23:30:00+00:00  18.2  16.2  18.1\n",
       "\n",
       "[192 rows x 3 columns]"
      ]
     },
     "execution_count": null,
     "metadata": {},
     "output_type": "execute_result"
    }
   ],
   "source": [
    "variable = \"temperature\"\n",
    "start_date = \"2021-08-13\"\n",
    "end_date = \"2021-08-16\"\n",
    "\n",
    "ts_df = client.get_ts_df(variable, start_date, end_date)\n",
    "ts_df"
   ]
  },
  {
   "cell_type": "markdown",
   "id": "87c8e371",
   "metadata": {
    "lines_to_next_cell": 0
   },
   "source": [
    "\n",
    "The variable argument can be either: - a meteocat variable code (integer or string) or variable name (string) - see the \"CODI_VARIABLE\" and \"NOM_VARIABLE\" columns in [\"Metadades variables meteorològiques\"](https://analisi.transparenciacatalunya.cat/en/Medi-Ambient/Metadades-variables-meteorol-giques/4fb2-n3yi/data) - or an essential climate variable (ECV) following the meteostations-geopy nomenclature (string).\n",
    "\n",
    "The returned object is a pandas data frame upon which we can operate using any of its supported functions, e.g.:"
   ]
  },
  {
   "cell_type": "code",
   "execution_count": null,
   "id": "47e7bd47",
   "metadata": {},
   "outputs": [
    {
     "data": {
      "text/plain": [
       "<Axes: xlabel='time'>"
      ]
     },
     "execution_count": null,
     "metadata": {},
     "output_type": "execute_result"
    },
    {
     "data": {
      "image/png": "[encoded data removed]",
      "text/plain": [
       "<Figure size 640x480 with 1 Axes>"
      ]
     },
     "metadata": {},
     "output_type": "display_data"
    }
   ],
   "source": [
    "ts_df.resample(\"H\").mean().plot()"
   ]
  },
  {
   "cell_type": "markdown",
   "id": "618417d1",
   "metadata": {},
   "source": [
    "\n",
    "TODO: We can also use the `get_ts_gdf` method to include the locations of the stations along with the time series of measurements as in:"
   ]
  },
  {
   "cell_type": "code",
   "execution_count": null,
   "id": "4f251183",
   "metadata": {},
   "outputs": [],
   "source": [
    "# TODO: ts_gdf = client.get_ts_gdf(variable, start_date, end_date)"
   ]
  }
 ],
 "metadata": {
  "jupytext": {
   "cell_metadata_filter": "-all"
  },
  "kernelspec": {
   "display_name": "Python (meteostations)",
   "language": "python",
   "name": "meteostations"
  },
  "language_info": {
   "codemirror_mode": {
    "name": "ipython",
    "version": 3
   },
   "file_extension": ".py",
   "mimetype": "text/x-python",
   "name": "python",
   "nbconvert_exporter": "python",
   "pygments_lexer": "ipython3",
   "version": "3.10.10"
  }
 },
 "nbformat": 4,
 "nbformat_minor": 5
}
