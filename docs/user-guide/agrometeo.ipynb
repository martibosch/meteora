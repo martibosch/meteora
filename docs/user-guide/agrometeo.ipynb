{
 "cells": [
  {
   "cell_type": "markdown",
   "id": "97de8ddc",
   "metadata": {},
   "source": [
    "# Agrometeo"
   ]
  },
  {
   "cell_type": "code",
   "execution_count": null,
   "id": "3ef7e530",
   "metadata": {},
   "outputs": [],
   "source": [
    "from datetime import datetime\n",
    "\n",
    "from meteostations.clients import agrometeo"
   ]
  },
  {
   "cell_type": "markdown",
   "id": "07a8789b",
   "metadata": {},
   "source": [
    "The core object of agrometeo-geopy is the `AgrometeoDataset`, which can be instantiated providing a Nominatim query (of a Swiss region) as the `region` argument as in:"
   ]
  },
  {
   "cell_type": "code",
   "execution_count": null,
   "id": "1c7be32a",
   "metadata": {},
   "outputs": [],
   "source": [
    "client = agrometeo.AgrometeoClient(region=\"Canton de Genève\")"
   ]
  },
  {
   "cell_type": "markdown",
   "id": "ea226169",
   "metadata": {},
   "source": [
    "Alternatively, the `region` argument may also be provided as:\n",
    "\n",
    "* A list-like with the west, south, east and north bounds\n",
    "* A geopandas geo-series or geo-data frame\n",
    "* A geometric object, e.g., shapely geometry\n",
    "* A filename or URL, a file-like object opened in binary ('rb') mode, or a Path object that will be passed to `geopandas.read_file`.\n",
    "\n",
    "Once instantiated, the `stations_gdf` property features the stations within the region, with its locations and other attributes:"
   ]
  },
  {
   "cell_type": "code",
   "execution_count": null,
   "id": "b68a958f",
   "metadata": {},
   "outputs": [],
   "source": [
    "client.stations_gdf.head()"
   ]
  },
  {
   "cell_type": "markdown",
   "id": "5746a9af",
   "metadata": {},
   "source": [
    "Similarly, the `variables_df` property features the available variables and its metadata:"
   ]
  },
  {
   "cell_type": "code",
   "execution_count": null,
   "id": "05c28cd8",
   "metadata": {},
   "outputs": [],
   "source": [
    "client.variables_df.head()"
   ]
  },
  {
   "cell_type": "markdown",
   "id": "38ee310b",
   "metadata": {},
   "source": [
    "Given a variable and a time range, the time seres data frame of measurements in the corresponding stations can be obtained with the `get_ts_df` method as in:"
   ]
  },
  {
   "cell_type": "code",
   "execution_count": null,
   "id": "c35f4cee",
   "metadata": {},
   "outputs": [],
   "source": [
    "variable = \"temperature\"\n",
    "start_date = \"2021-08-13\"\n",
    "end_date = \"2021-08-16\"\n",
    "\n",
    "ts_df = client.get_ts_df(variable, start_date, end_date)\n",
    "ts_df"
   ]
  },
  {
   "cell_type": "markdown",
   "id": "48e19393",
   "metadata": {},
   "source": [
    "The `variable` argument can be either:\n",
    "- an agrometeo variable code (integer or string) - see the `variables_df` property above\n",
    "- an essential climate variable (ECV) following the meteostations-geopy nomenclature (string)\n",
    "- an agrometeo variable name (string) - see the `variables_df` property above"
   ]
  },
  {
   "cell_type": "markdown",
   "id": "1d5fb023",
   "metadata": {},
   "source": [
    "The returned object is a pandas data frame upon which we can operate using any of its supported functions, e.g.:"
   ]
  },
  {
   "cell_type": "code",
   "execution_count": null,
   "id": "0c3a792e",
   "metadata": {},
   "outputs": [],
   "source": [
    "ts_df.resample(\"H\").mean().plot()"
   ]
  },
  {
   "cell_type": "markdown",
   "id": "585acb92",
   "metadata": {},
   "source": [
    "We can also use the `get_ts_gdf` method to include the locations of the stations along with the time series of measurements as in:"
   ]
  },
  {
   "cell_type": "code",
   "execution_count": null,
   "id": "b4361aef",
   "metadata": {},
   "outputs": [],
   "source": [
    "ts_gdf = client.get_ts_gdf(variable, start_date, end_date)\n",
    "ts_gdf"
   ]
  },
  {
   "cell_type": "markdown",
   "id": "fb360530",
   "metadata": {},
   "source": [
    "TODO: We can then use the `plot_temperature_map` function to plot a map of the temperature measurements at a given point in time provided as the `dt` argument:"
   ]
  },
  {
   "cell_type": "code",
   "execution_count": null,
   "id": "c375b947",
   "metadata": {},
   "outputs": [],
   "source": [
    "# TODO:\n",
    "# plot_temperature_map(\n",
    "#     ts_gdf,\n",
    "#     dt=datetime(year=2021, month=8, day=15, hour=21),\n",
    "#     plot_kws=dict(edgecolors=\"black\"),\n",
    "# )"
   ]
  }
 ],
 "metadata": {
  "jupytext": {
   "cell_metadata_filter": "-all"
  },
  "kernelspec": {
   "display_name": "Python (meteostations)",
   "language": "python",
   "name": "meteostations"
  }
 },
 "nbformat": 4,
 "nbformat_minor": 5
}
