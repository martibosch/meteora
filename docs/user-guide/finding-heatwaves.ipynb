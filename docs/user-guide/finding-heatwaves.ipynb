{
 "cells": [
  {
   "cell_type": "code",
   "execution_count": null,
   "id": "0",
   "metadata": {},
   "outputs": [],
   "source": [
    "%load_ext autoreload\n",
    "%autoreload 2"
   ]
  },
  {
   "cell_type": "markdown",
   "id": "1",
   "metadata": {},
   "source": [
    "\n",
    "# Finding heatwaves\n",
    "\n",
    "According to the World Meteorological Organization (WMO), a heatwave can be defined as \"a period where local excess heat accumulates over a sequence of unusually hot days and nights.\""
   ]
  },
  {
   "cell_type": "code",
   "execution_count": null,
   "id": "2",
   "metadata": {},
   "outputs": [],
   "source": [
    "import datetime\n",
    "\n",
    "import pandas as pd\n",
    "\n",
    "from meteora import utils\n",
    "from meteora.clients import GHCNHourlyClient"
   ]
  },
  {
   "cell_type": "code",
   "execution_count": null,
   "id": "3",
   "metadata": {
    "tags": [
     "parameters"
    ]
   },
   "outputs": [],
   "source": [
    "region = [8.3424, 47.3416, 8.6734, 47.4673]\n",
    "# select study period\n",
    "start_year = 2022\n",
    "end_year = 2024\n",
    "# months to consider when querying the GHCNh data\n",
    "start_month = 5\n",
    "end_month = 9\n",
    "\n",
    "# heatwave parameters\n",
    "heatwave_t_mean_threshold = 25\n",
    "heatwave_n_consecutive_days = 3"
   ]
  },
  {
   "cell_type": "code",
   "execution_count": null,
   "id": "4",
   "metadata": {},
   "outputs": [],
   "source": [
    "client = GHCNHourlyClient(region)\n",
    "ts_df = pd.concat(\n",
    "    [\n",
    "        client.get_ts_df(\n",
    "            \"temperature\",\n",
    "            datetime.date(year, start_month, 1),\n",
    "            # ACHTUNG: this won't work if `end_month` is 12 (see commented code below)\n",
    "            datetime.date(year, end_month + 1, 1) - datetime.timedelta(days=1),\n",
    "            # datetime.date(year + int(end_month / 12), (end_month % 12) + 1, 1)\n",
    "            # - datetime.timedelta(days=1),\n",
    "        )\n",
    "        for year in range(start_year, end_year + 1)\n",
    "    ],\n",
    "    axis=\"rows\",\n",
    ")\n",
    "# convert to wide format\n",
    "ts_df = utils.long_to_wide(ts_df)"
   ]
  },
  {
   "cell_type": "code",
   "execution_count": null,
   "id": "5",
   "metadata": {},
   "outputs": [],
   "source": [
    "heatwave_periods = utils.get_heatwave_periods(ts_df, inter_station_agg_func=\"max\")\n",
    "heatwave_periods"
   ]
  },
  {
   "cell_type": "code",
   "execution_count": null,
   "id": "6",
   "metadata": {},
   "outputs": [],
   "source": [
    "heatwave_ts_df = (\n",
    "    pd.concat(\n",
    "        ts_df.loc[heatwave_start:heatwave_end].assign(\n",
    "            heatwave=f\"{heatwave_start.date()}/{heatwave_end.date()}\"\n",
    "        )\n",
    "        for heatwave_start, heatwave_end in heatwave_periods\n",
    "    )\n",
    "    .reset_index()\n",
    "    .set_index([\"heatwave\", ts_df.index.name])\n",
    ")\n",
    "heatwave_ts_df"
   ]
  },
  {
   "cell_type": "code",
   "execution_count": null,
   "id": "7",
   "metadata": {
    "lines_to_next_cell": 2
   },
   "outputs": [],
   "source": [
    "heatwave_ts_df.reset_index().melt(\n",
    "    id_vars=[\"heatwave\", \"time\"], value_name=\"temperature\"\n",
    ")"
   ]
  },
  {
   "cell_type": "code",
   "execution_count": null,
   "id": "8",
   "metadata": {
    "lines_to_next_cell": 2
   },
   "outputs": [],
   "source": []
  },
  {
   "cell_type": "markdown",
   "id": "9",
   "metadata": {},
   "source": [
    "## References\n",
    "\n",
    "1. A. Burgstall, L. Fontannaz, M. Gaia, R. Gehrig, U. Graf, S. Gubler, S. Kotlarski, D. Murer, T. Schlegel, C. Schwierz, and C. Spirig, “Von den warnungen bis zur klimatologie – das thema hitze an der MeteoSchweiz,” Technical report MeteoSwiss No. 276 276, MeteoSwiss, 2021."
   ]
  }
 ],
 "metadata": {
  "jupytext": {
   "cell_metadata_filter": "tags,-all"
  },
  "kernelspec": {
   "display_name": "Python (meteora)",
   "language": "python",
   "name": "meteora"
  }
 },
 "nbformat": 4,
 "nbformat_minor": 5
}
